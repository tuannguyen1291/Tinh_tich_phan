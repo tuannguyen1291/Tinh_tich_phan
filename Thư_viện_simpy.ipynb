{
  "nbformat": 4,
  "nbformat_minor": 0,
  "metadata": {
    "colab": {
      "provenance": [],
      "authorship_tag": "ABX9TyPAz2AUMMJHWuGGcML/7AYn",
      "include_colab_link": true
    },
    "kernelspec": {
      "name": "python3",
      "display_name": "Python 3"
    },
    "language_info": {
      "name": "python"
    }
  },
  "cells": [
    {
      "cell_type": "markdown",
      "metadata": {
        "id": "view-in-github",
        "colab_type": "text"
      },
      "source": [
        "<a href=\"https://colab.research.google.com/github/tuannguyen1291/Tinh_tich_phan/blob/main/Th%C6%B0_vi%E1%BB%87n_simpy.ipynb\" target=\"_parent\"><img src=\"https://colab.research.google.com/assets/colab-badge.svg\" alt=\"Open In Colab\"/></a>"
      ]
    },
    {
      "cell_type": "markdown",
      "source": [
        "##Câu 1: Giải phương trình"
      ],
      "metadata": {
        "id": "J-2Ng3dOab5P"
      }
    },
    {
      "cell_type": "code",
      "execution_count": null,
      "metadata": {
        "colab": {
          "base_uri": "https://localhost:8080/"
        },
        "id": "tO9CoYZcaWxW",
        "outputId": "aa03b729-57b8-4119-f5f9-9e28cebfa293"
      },
      "outputs": [
        {
          "output_type": "stream",
          "name": "stdout",
          "text": [
            "Kết quả:  [5/2]\n"
          ]
        }
      ],
      "source": [
        "from sympy import symbols,Eq,solve\n",
        "def giai_phuong_trinh():\n",
        "  x=symbols(\"x\")\n",
        "  eq=Eq(-2*x+5,0)\n",
        "  answer=solve(eq,x)\n",
        "  return answer\n",
        "def main():\n",
        "  z=giai_phuong_trinh()\n",
        "  print(\"Kết quả: \",z)\n",
        "if __name__==\"__main__\":\n",
        "  main()"
      ]
    },
    {
      "cell_type": "code",
      "source": [
        "from sympy import symbols,Eq,solve\n",
        "def giai_phuong_trinh():\n",
        "  x=symbols(\"x\")\n",
        "  eq=Eq(5*x-9,0)\n",
        "  answer=solve(eq,x)\n",
        "  return answer\n",
        "def main():\n",
        "  z=giai_phuong_trinh()\n",
        "  print(\"Kết quả: \",z)\n",
        "if __name__==\"__main__\":\n",
        "  main()"
      ],
      "metadata": {
        "colab": {
          "base_uri": "https://localhost:8080/"
        },
        "id": "Uoum1EmhaiM2",
        "outputId": "7ad76079-1084-43dc-f599-5c81e8fbc60e"
      },
      "execution_count": null,
      "outputs": [
        {
          "output_type": "stream",
          "name": "stdout",
          "text": [
            "Kết quả:  [9/5]\n"
          ]
        }
      ]
    },
    {
      "cell_type": "markdown",
      "source": [
        "##Câu 2: Giải hệ phương trình"
      ],
      "metadata": {
        "id": "bc1_wUV9akJO"
      }
    },
    {
      "cell_type": "code",
      "source": [
        "from sympy import symbols,Eq,solve\n",
        "def giai_he_phuong_trinh():\n",
        "  x,y=symbols(\"x,y\")\n",
        "  eq1=Eq(x-y-3,0)\n",
        "  eq2=Eq(3*x-4*y-4,0)\n",
        "  answer=solve((eq1,eq2),(x,y))\n",
        "  return answer\n",
        "def main():\n",
        "  z=giai_he_phuong_trinh()\n",
        "  print(\"Kết quả: \",z)\n",
        "if __name__==\"__main__\":\n",
        "  main()"
      ],
      "metadata": {
        "colab": {
          "base_uri": "https://localhost:8080/"
        },
        "id": "NFe-EHItanGr",
        "outputId": "90f64483-efd9-4a13-f07a-daeae971bbf9"
      },
      "execution_count": null,
      "outputs": [
        {
          "output_type": "stream",
          "name": "stdout",
          "text": [
            "Kết quả:  {x: 8, y: 5}\n"
          ]
        }
      ]
    },
    {
      "cell_type": "code",
      "source": [
        "from sympy import symbols,Eq,solve\n",
        "def giai_he_phuong_trinh():\n",
        "  x,y,z=symbols(\"x,y,z\")\n",
        "  eq1=Eq(x-y+2*z-4,0)\n",
        "  eq2=Eq(2*x+y-z+1,0)\n",
        "  eq3=Eq(x+y+z-5,0)\n",
        "  answer=solve((eq1,eq2,eq3),(x,y,z))\n",
        "  return answer\n",
        "def main():\n",
        "  z=giai_he_phuong_trinh()\n",
        "  print(\"Kết quả: \",z)\n",
        "if __name__==\"__main__\":\n",
        "  main()"
      ],
      "metadata": {
        "colab": {
          "base_uri": "https://localhost:8080/"
        },
        "id": "ytf5ViSXaosb",
        "outputId": "f541aae7-2107-47ea-9d5e-b30043c1f964"
      },
      "execution_count": null,
      "outputs": [
        {
          "output_type": "stream",
          "name": "stdout",
          "text": [
            "Kết quả:  {x: 0, y: 2, z: 3}\n"
          ]
        }
      ]
    },
    {
      "cell_type": "markdown",
      "source": [
        "##Câu 3: Tính giới hạn hàm số"
      ],
      "metadata": {
        "id": "B3mrRwyVatcz"
      }
    },
    {
      "cell_type": "code",
      "source": [
        "from sympy import limit,symbols\n",
        "def tinh_dao_ham():\n",
        "  x=symbols(\"x\")\n",
        "  f=(x-8)/(x-2)\n",
        "  answer=limit(f,x,2)\n",
        "  return answer\n",
        "def main():\n",
        "  z=tinh_dao_ham()\n",
        "  print(\"Kết quả: \",z)\n",
        "if __name__==\"__main__\":\n",
        "  main()"
      ],
      "metadata": {
        "colab": {
          "base_uri": "https://localhost:8080/"
        },
        "id": "vcZ1cnVHaxuY",
        "outputId": "39ae727c-e143-4d3e-b20f-e5c9a5032fe2"
      },
      "execution_count": null,
      "outputs": [
        {
          "output_type": "stream",
          "name": "stdout",
          "text": [
            "Kết quả:  -oo\n"
          ]
        }
      ]
    },
    {
      "cell_type": "code",
      "source": [
        "from sympy import limit,symbols,sin,cos\n",
        "def tinh_dao_ham():\n",
        "  x=symbols(\"x\")\n",
        "  f=(1-cos(x))/sin(x)\n",
        "  answer=limit(f,x,0)\n",
        "  return answer\n",
        "def main():\n",
        "  z=tinh_dao_ham()\n",
        "  print(\"Kết quả: \",z)\n",
        "if __name__==\"__main__\":\n",
        "  main()"
      ],
      "metadata": {
        "colab": {
          "base_uri": "https://localhost:8080/"
        },
        "id": "b-gnQGYiaz_q",
        "outputId": "69339aa1-7f58-4b5c-846f-ee15ce8115db"
      },
      "execution_count": null,
      "outputs": [
        {
          "output_type": "stream",
          "name": "stdout",
          "text": [
            "Kết quả:  0\n"
          ]
        }
      ]
    },
    {
      "cell_type": "markdown",
      "source": [
        "##Câu 4: Tính đạo hàm"
      ],
      "metadata": {
        "id": "f_jMws7wa1gu"
      }
    },
    {
      "cell_type": "code",
      "source": [
        "from sympy import diff\n",
        "def tinh_dao_ham():\n",
        "  x=symbols(\"x\")\n",
        "  f=3*x**2+6*x-8\n",
        "  answer=diff(f,x)\n",
        "  return answer\n",
        "def main():\n",
        "  z=tinh_dao_ham()\n",
        "  print(\"Kết quả: \",z)\n",
        "if __name__==\"__main__\":\n",
        "  main()"
      ],
      "metadata": {
        "colab": {
          "base_uri": "https://localhost:8080/"
        },
        "id": "FB-JDKKsa4Dd",
        "outputId": "2b944504-dd8e-4273-ec3a-d06b9208aab9"
      },
      "execution_count": null,
      "outputs": [
        {
          "output_type": "stream",
          "name": "stdout",
          "text": [
            "Kết quả:  6*x + 6\n"
          ]
        }
      ]
    },
    {
      "cell_type": "code",
      "source": [
        "from sympy import diff,tan\n",
        "def tinh_dao_ham():\n",
        "  x=symbols(\"x\")\n",
        "  f=tan(x)\n",
        "  answer=diff(f,x)\n",
        "  return answer\n",
        "def main():\n",
        "  z=tinh_dao_ham()\n",
        "  print(\"Kết quả: \",z)\n",
        "if __name__==\"__main__\":\n",
        "  main()"
      ],
      "metadata": {
        "colab": {
          "base_uri": "https://localhost:8080/"
        },
        "id": "hMFjor3ya8sD",
        "outputId": "1c5bbae8-ddbf-44d5-d854-0615464dc9d9"
      },
      "execution_count": null,
      "outputs": [
        {
          "output_type": "stream",
          "name": "stdout",
          "text": [
            "Kết quả:  tan(x)**2 + 1\n"
          ]
        }
      ]
    },
    {
      "cell_type": "markdown",
      "source": [
        "##Câu 5: Tính tích phân"
      ],
      "metadata": {
        "id": "HpfLbHdua_nJ"
      }
    },
    {
      "cell_type": "code",
      "source": [
        "from sympy import sin,pi,symbols,integrate\n",
        "def tinh_tich_phan():\n",
        "  x=symbols(\"x\")\n",
        "  f=sin(2*x)*sin(7*x)\n",
        "  answer=integrate(f,(x,-pi/2,pi/2))\n",
        "  return answer\n",
        "def main():\n",
        "  z=tinh_tich_phan()\n",
        "  print(\"Kết quả tích phân: \",z)\n",
        "if __name__==\"__main__\":\n",
        "  main()"
      ],
      "metadata": {
        "colab": {
          "base_uri": "https://localhost:8080/"
        },
        "id": "9Bhd4jt5bCZG",
        "outputId": "ee2ae3a6-66d3-43fa-db9b-035e50ac884f"
      },
      "execution_count": null,
      "outputs": [
        {
          "output_type": "stream",
          "name": "stdout",
          "text": [
            "Kết quả tích phân:  4/45\n"
          ]
        }
      ]
    },
    {
      "cell_type": "code",
      "source": [
        "from sympy import sin,pi,symbols,integrate\n",
        "def tinh_tich_phan():\n",
        "  x,y=symbols(\"x,y\")\n",
        "  f=2*sin(x)-3*y**3+5\n",
        "  answer=integrate(f,x,y)\n",
        "  return answer\n",
        "def main():\n",
        "  z=tinh_tich_phan()\n",
        "  print(\"Kết quả tích phân: \",z)\n",
        "if __name__==\"__main__\":\n",
        "  main()"
      ],
      "metadata": {
        "colab": {
          "base_uri": "https://localhost:8080/"
        },
        "id": "f2Py9BGwbHXS",
        "outputId": "aa19b3ef-3dda-438f-9e5f-107a60cb971d"
      },
      "execution_count": null,
      "outputs": [
        {
          "output_type": "stream",
          "name": "stdout",
          "text": [
            "Kết quả tích phân:  -3*x*y**4/4 + y*(5*x - 2*cos(x))\n"
          ]
        }
      ]
    },
    {
      "cell_type": "code",
      "source": [
        "from sympy import symbols,integrate\n",
        "def tinh_tich_phan():\n",
        "  x,y=symbols(\"x,y\")\n",
        "  f=(x**2+y**2)\n",
        "  answer=integrate(f,(x,-2,2),(y,0,4))\n",
        "  return answer\n",
        "def main():\n",
        "  z=tinh_tich_phan()\n",
        "  print(\"Kết quả tích phân: \",z)\n",
        "if __name__==\"__main__\":\n",
        "  main()"
      ],
      "metadata": {
        "colab": {
          "base_uri": "https://localhost:8080/"
        },
        "id": "PHQOfVtFbJBl",
        "outputId": "3bf30fef-06d5-45cf-8c7f-4ed9ef816b71"
      },
      "execution_count": null,
      "outputs": [
        {
          "output_type": "stream",
          "name": "stdout",
          "text": [
            "Kết quả tích phân:  320/3\n"
          ]
        }
      ]
    }
  ]
}