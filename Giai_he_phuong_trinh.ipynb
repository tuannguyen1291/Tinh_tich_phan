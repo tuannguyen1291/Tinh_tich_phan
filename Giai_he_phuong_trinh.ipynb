{
  "nbformat": 4,
  "nbformat_minor": 0,
  "metadata": {
    "colab": {
      "provenance": [],
      "authorship_tag": "ABX9TyM03mY1hOG2IVycuMgdlOqa",
      "include_colab_link": true
    },
    "kernelspec": {
      "name": "python3",
      "display_name": "Python 3"
    },
    "language_info": {
      "name": "python"
    }
  },
  "cells": [
    {
      "cell_type": "markdown",
      "metadata": {
        "id": "view-in-github",
        "colab_type": "text"
      },
      "source": [
        "<a href=\"https://colab.research.google.com/github/tuannguyen1291/Tinh_tich_phan/blob/main/Giai_he_phuong_trinh.ipynb\" target=\"_parent\"><img src=\"https://colab.research.google.com/assets/colab-badge.svg\" alt=\"Open In Colab\"/></a>"
      ]
    },
    {
      "cell_type": "markdown",
      "source": [
        "##Câu 1: Giải phương trình"
      ],
      "metadata": {
        "id": "vIelJRAFexq5"
      }
    },
    {
      "cell_type": "code",
      "execution_count": null,
      "metadata": {
        "colab": {
          "base_uri": "https://localhost:8080/"
        },
        "id": "d3FcFjmddq4X",
        "outputId": "80f76497-1510-48db-a841-f8ea052f1adb"
      },
      "outputs": [
        {
          "output_type": "stream",
          "name": "stdout",
          "text": [
            "Kết quả:  [5/2]\n"
          ]
        }
      ],
      "source": [
        "from sympy import symbols,Eq,solve\n",
        "def giai_phuong_trinh():\n",
        "  x=symbols(\"x\")\n",
        "  eq=Eq(-2*x+5,0)\n",
        "  answer=solve(eq,x)\n",
        "  return answer\n",
        "def main():\n",
        "  z=giai_phuong_trinh()\n",
        "  print(\"Kết quả: \",z)\n",
        "if __name__==\"__main__\":\n",
        "  main()"
      ]
    },
    {
      "cell_type": "code",
      "source": [
        "from sympy import symbols,Eq,solve\n",
        "def giai_phuong_trinh():\n",
        "  x=symbols(\"x\")\n",
        "  eq=Eq(5*x-9,0)\n",
        "  answer=solve(eq,x)\n",
        "  return answer\n",
        "def main():\n",
        "  z=giai_phuong_trinh()\n",
        "  print(\"Kết quả: \",z)\n",
        "if __name__==\"__main__\":\n",
        "  main()"
      ],
      "metadata": {
        "id": "3ACoNxuJgHpo",
        "colab": {
          "base_uri": "https://localhost:8080/"
        },
        "outputId": "ee37ce2c-7dbb-4e95-888d-8a3b6a659fc6"
      },
      "execution_count": null,
      "outputs": [
        {
          "output_type": "stream",
          "name": "stdout",
          "text": [
            "Kết quả:  [9/5]\n"
          ]
        }
      ]
    },
    {
      "cell_type": "markdown",
      "source": [
        "##Câu 2: Giải hệ phương trình"
      ],
      "metadata": {
        "id": "y7RdFHbaody5"
      }
    },
    {
      "cell_type": "code",
      "source": [
        "from sympy import symbols,Eq,solve\n",
        "def giai_he_phuong_trinh():\n",
        "  x,y=symbols(\"x,y\")\n",
        "  eq1=Eq(x-y-3,0)\n",
        "  eq2=Eq(3*x-4*y-4,0)\n",
        "  answer=solve((eq1,eq2),(x,y))\n",
        "  return answer\n",
        "def main():\n",
        "  z=giai_he_phuong_trinh()\n",
        "  print(\"Kết quả: \",z)\n",
        "if __name__==\"__main__\":\n",
        "  main()"
      ],
      "metadata": {
        "colab": {
          "base_uri": "https://localhost:8080/"
        },
        "id": "yD0P4Mq3oiRm",
        "outputId": "c1cf2c98-3a1e-4da6-8065-af2aa5c459d1"
      },
      "execution_count": null,
      "outputs": [
        {
          "output_type": "stream",
          "name": "stdout",
          "text": [
            "Kết quả:  {x: 8, y: 5}\n"
          ]
        }
      ]
    },
    {
      "cell_type": "code",
      "source": [
        "from sympy import symbols,Eq,solve\n",
        "def giai_he_phuong_trinh():\n",
        "  x,y,z=symbols(\"x,y,z\")\n",
        "  eq1=Eq(x-y+2*z-4,0)\n",
        "  eq2=Eq(2*x+y-z+1,0)\n",
        "  eq3=Eq(x+y+z-5,0)\n",
        "  answer=solve((eq1,eq2,eq3),(x,y,z))\n",
        "  return answer\n",
        "def main():\n",
        "  z=giai_he_phuong_trinh()\n",
        "  print(\"Kết quả: \",z)\n",
        "if __name__==\"__main__\":\n",
        "  main()"
      ],
      "metadata": {
        "id": "WeOe-iKUq6Aa",
        "colab": {
          "base_uri": "https://localhost:8080/"
        },
        "outputId": "61dd6dc0-9a27-4552-e0fd-e18077f91225"
      },
      "execution_count": null,
      "outputs": [
        {
          "output_type": "stream",
          "name": "stdout",
          "text": [
            "Kết quả:  {x: 0, y: 2, z: 3}\n"
          ]
        }
      ]
    },
    {
      "cell_type": "markdown",
      "source": [
        "##Câu 3:Tính giới hạn hàm số"
      ],
      "metadata": {
        "id": "v2XB6NrxrXcl"
      }
    },
    {
      "cell_type": "code",
      "source": [
        "from sympy import limit,symbols\n",
        "def tinh_dao_ham():\n",
        "  x=symbols(\"x\")\n",
        "  f=(x-8)/(x-2)\n",
        "  answer=limit(f,x,2)\n",
        "  return answer\n",
        "def main():\n",
        "  z=tinh_dao_ham()\n",
        "  print(\"Kết quả: \",z)\n",
        "if __name__==\"__main__\":\n",
        "  main()"
      ],
      "metadata": {
        "id": "7cOOf9Gora5e",
        "colab": {
          "base_uri": "https://localhost:8080/"
        },
        "outputId": "471433d8-674a-43c8-d861-9c407ab05b4f"
      },
      "execution_count": null,
      "outputs": [
        {
          "output_type": "stream",
          "name": "stdout",
          "text": [
            "Kết quả:  -oo\n"
          ]
        }
      ]
    },
    {
      "cell_type": "code",
      "source": [
        "from sympy import limit,symbols,sin,cos\n",
        "def tinh_dao_ham():\n",
        "  x=symbols(\"x\")\n",
        "  f=(1-cos(x))/sin(x)\n",
        "  answer=limit(f,x,0)\n",
        "  return answer\n",
        "def main():\n",
        "  z=tinh_dao_ham()\n",
        "  print(\"Kết quả: \",z)\n",
        "if __name__==\"__main__\":\n",
        "  main()"
      ],
      "metadata": {
        "colab": {
          "base_uri": "https://localhost:8080/"
        },
        "id": "6fZigKNAyt_l",
        "outputId": "ec95123a-3459-41c9-994b-23eef04033a0"
      },
      "execution_count": null,
      "outputs": [
        {
          "output_type": "stream",
          "name": "stdout",
          "text": [
            "Kết quả:  0\n"
          ]
        }
      ]
    },
    {
      "cell_type": "markdown",
      "source": [
        "##Câu 4: Tính đạo hàm"
      ],
      "metadata": {
        "id": "YJacbehYzLDz"
      }
    },
    {
      "cell_type": "code",
      "source": [
        "from sympy import diff\n",
        "def tinh_dao_ham():\n",
        "  x=symbols(\"x\")\n",
        "  f=3*x**2+6*x-8\n",
        "  answer=diff(f,x)\n",
        "  return answer\n",
        "def main():\n",
        "  z=tinh_dao_ham()\n",
        "  print(\"Kết quả: \",z)\n",
        "if __name__==\"__main__\":\n",
        "  main()"
      ],
      "metadata": {
        "colab": {
          "base_uri": "https://localhost:8080/"
        },
        "id": "-jVNetpdzOkl",
        "outputId": "91574e54-6a8d-45e6-f056-e7e75e2ea7f8"
      },
      "execution_count": null,
      "outputs": [
        {
          "output_type": "stream",
          "name": "stdout",
          "text": [
            "Kết quả:  6*x + 6\n"
          ]
        }
      ]
    },
    {
      "cell_type": "code",
      "source": [
        "from sympy import diff,tan\n",
        "def tinh_dao_ham():\n",
        "  x=symbols(\"x\")\n",
        "  f=tan(x)\n",
        "  answer=diff(f,x)\n",
        "  return answer\n",
        "def main():\n",
        "  z=tinh_dao_ham()\n",
        "  print(\"Kết quả: \",z)\n",
        "if __name__==\"__main__\":\n",
        "  main()"
      ],
      "metadata": {
        "colab": {
          "base_uri": "https://localhost:8080/"
        },
        "id": "u4Grvj5Kz-RV",
        "outputId": "6c49146a-ef42-4724-8faf-63be1a4ddf81"
      },
      "execution_count": null,
      "outputs": [
        {
          "output_type": "stream",
          "name": "stdout",
          "text": [
            "Kết quả:  tan(x)**2 + 1\n"
          ]
        }
      ]
    },
    {
      "cell_type": "markdown",
      "source": [
        "##Câu 5: Tính tích phân"
      ],
      "metadata": {
        "id": "_3QnvwSG1KAN"
      }
    },
    {
      "cell_type": "code",
      "source": [
        "from sympy import sin,pi,symbols,integrate\n",
        "def tinh_tich_phan():\n",
        "  x=symbols(\"x\")\n",
        "  f=sin(2*x)*cos(7*x)\n",
        "  answer=integrate(f,(x,-pi/2,pi/2))\n",
        "  return answer\n",
        "def main():\n",
        "  z=tinh_tich_phan()\n",
        "  print(\"Kết quả tích phân: \",z)\n",
        "if __name__==\"__main__\":\n",
        "  main()"
      ],
      "metadata": {
        "id": "xlhx683Y1PVA",
        "colab": {
          "base_uri": "https://localhost:8080/"
        },
        "outputId": "f8feeb4c-80f7-4598-b8a9-f3c4e6547c13"
      },
      "execution_count": null,
      "outputs": [
        {
          "output_type": "stream",
          "name": "stdout",
          "text": [
            "Kết quả tích phân:  0\n"
          ]
        }
      ]
    },
    {
      "cell_type": "code",
      "source": [
        "from sympy import sin,pi,symbols,integrate\n",
        "def tinh_tich_phan():\n",
        "  x,y=symbols(\"x,y\")\n",
        "  f=2*sin(x)-3*y**3+5\n",
        "  answer=integrate(f,x,y)\n",
        "  return answer\n",
        "def main():\n",
        "  z=tinh_tich_phan()\n",
        "  print(\"Kết quả tích phân: \",z)\n",
        "if __name__==\"__main__\":\n",
        "  main()"
      ],
      "metadata": {
        "colab": {
          "base_uri": "https://localhost:8080/"
        },
        "id": "eyzV4cvK2zxd",
        "outputId": "2af5878d-16d7-47ad-f790-92dfb02072ec"
      },
      "execution_count": null,
      "outputs": [
        {
          "output_type": "stream",
          "name": "stdout",
          "text": [
            "Kết quả tích phân:  -3*x*y**4/4 + y*(5*x - 2*cos(x))\n"
          ]
        }
      ]
    },
    {
      "cell_type": "code",
      "source": [
        "from sympy import symbols,integrate\n",
        "def tinh_tich_phan():\n",
        "  x,y=symbols(\"x,y\")\n",
        "  f=(x**2+y**2)\n",
        "  answer=integrate(f,(x,-2,2),(y,0,4))\n",
        "  return answer\n",
        "def main():\n",
        "  z=tinh_tich_phan()\n",
        "  print(\"Kết quả tích phân: \",z)\n",
        "if __name__==\"__main__\":\n",
        "  main()"
      ],
      "metadata": {
        "colab": {
          "base_uri": "https://localhost:8080/"
        },
        "id": "HMC8ls1I35uN",
        "outputId": "f59db3dc-db45-4491-f3a4-3be59ba24d08"
      },
      "execution_count": null,
      "outputs": [
        {
          "output_type": "stream",
          "name": "stdout",
          "text": [
            "Kết quả tích phân:  320/3\n"
          ]
        }
      ]
    }
  ]
}